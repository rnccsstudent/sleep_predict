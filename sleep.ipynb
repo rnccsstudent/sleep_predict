{
 "cells": [
  {
   "cell_type": "code",
   "execution_count": 1,
   "id": "25eb6440-13b3-4dfa-9d1d-eba3b843e412",
   "metadata": {},
   "outputs": [
    {
     "name": "stdout",
     "output_type": "stream",
     "text": [
      "MAE: 0.2749999999999999\n"
     ]
    }
   ],
   "source": [
    "import pandas as pd\n",
    "import numpy as np\n",
    "import pickle\n",
    "from sklearn.model_selection import train_test_split\n",
    "from sklearn.ensemble import RandomForestRegressor\n",
    "from sklearn.metrics import mean_absolute_error\n",
    "\n",
    "# Sample Dataset (Replace with real dataset)\n",
    "data = {\n",
    "    'height': [5.5, 6.0, 5.8, 5.6, 6.1, 5.9, 5.4, 6.2, 5.7, 5.3],\n",
    "    'weight': [65, 80, 75, 60, 85, 70, 55, 90, 68, 50],\n",
    "    'sleep_hours': [7, 6.5, 7.5, 8, 6, 7, 8.5, 5.5, 7.2, 9]\n",
    "}\n",
    "\n",
    "df = pd.DataFrame(data)\n",
    "\n",
    "# Feature Selection\n",
    "X = df[['height', 'weight']]\n",
    "y = df['sleep_hours']\n",
    "\n",
    "# Train-Test Split\n",
    "X_train, X_test, y_train, y_test = train_test_split(X, y, test_size=0.2, random_state=42)\n",
    "\n",
    "# Model Training\n",
    "model = RandomForestRegressor(n_estimators=100, random_state=42)\n",
    "model.fit(X_train, y_train)\n",
    "\n",
    "# Model Evaluation\n",
    "y_pred = model.predict(X_test)\n",
    "print(f\"MAE: {mean_absolute_error(y_test, y_pred)}\")\n",
    "\n",
    "# Save Model\n",
    "with open('sleep_model.pkl', 'wb') as file:\n",
    "    pickle.dump(model, file)\n"
   ]
  },
  {
   "cell_type": "code",
   "execution_count": null,
   "id": "14e6d360-2eed-452e-8f69-0fa9eb6df08e",
   "metadata": {},
   "outputs": [],
   "source": []
  }
 ],
 "metadata": {
  "kernelspec": {
   "display_name": "Python 3 (ipykernel)",
   "language": "python",
   "name": "python3"
  },
  "language_info": {
   "codemirror_mode": {
    "name": "ipython",
    "version": 3
   },
   "file_extension": ".py",
   "mimetype": "text/x-python",
   "name": "python",
   "nbconvert_exporter": "python",
   "pygments_lexer": "ipython3",
   "version": "3.12.0"
  }
 },
 "nbformat": 4,
 "nbformat_minor": 5
}
